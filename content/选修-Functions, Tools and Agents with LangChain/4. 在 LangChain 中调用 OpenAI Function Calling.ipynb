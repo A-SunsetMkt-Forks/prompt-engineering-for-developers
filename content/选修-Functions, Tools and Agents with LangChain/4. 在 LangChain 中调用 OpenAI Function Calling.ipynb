{
 "cells": [
  {
   "cell_type": "markdown",
   "id": "46f5f5b2-f7f9-415f-8049-3e2f66d38195",
   "metadata": {
    "tags": []
   },
   "source": [
    "# 第四章 在 LangChain 中调用 OpenAI Function Calling\n",
    "\n",
    " - [一、设置OpenAI API Key](#一、设置OpenAI-API-Key)\n",
    " - [二、Pydantic语法](#二、Pydantic语法)\n",
    "     - [2.1 简单创建Python类](#2.1-简单创建Python类)\n",
    "     - [2.2 使用Pydantic创建类](#2.2-使用Pydantic创建类)\n",
    " - [三、 基于Pydantic的OpenAI函数定义](#三、基于Pydantic的OpenAI函数定义)\n",
    "     - [3.1 构造OpenAI的function](#3.1-构造OpenAI的function)\n",
    "     - [3.2 通过langchain使用function](#3.2-通过langchain使用function)\n",
    "     - [3.3 强制使用function](#3.3-强制使用function)\n",
    " - [四、使用function](#四、使用function)\n",
    "     - [4.1 链式使用](#3.1-链式使用)\n",
    "     - [4.2 使用多个function](#4.2-使用多个function)"
   ]
  },
  {
   "cell_type": "markdown",
   "id": "b973da31-885c-48a6-9dc8-92fb0a217681",
   "metadata": {},
   "source": [
    "为了大家实验方便，关于以下示例，我们将使用硅基流动的API，于是相关的代码也会修改。"
   ]
  },
  {
   "cell_type": "markdown",
   "id": "1eb87015",
   "metadata": {},
   "source": [
    "# 一、设置OpenAI-API-Key\n",
    "\n",
    "详细内容见`设置OpenAI_API_KEY.ipynb`文件"
   ]
  },
  {
   "cell_type": "markdown",
   "id": "2ea4686a",
   "metadata": {},
   "source": [
    "# 二、Pydantic语法"
   ]
  },
  {
   "cell_type": "markdown",
   "id": "46645a3f",
   "metadata": {},
   "source": [
    "Pydantic 是 python 的“数据验证库”。\n",
    "- 与 python 类型注释一起工作。但是，与静态类型检查不同，它们在运行时被积极地用于数据验证和转换。\n",
    "- 提供内置方法来序列化/反序列化模型到 JSON ，字典等。\n",
    "- LangChain 利用 Pydantic 创建 JsONScheme 描述函数。"
   ]
  },
  {
   "cell_type": "markdown",
   "id": "56cbff25",
   "metadata": {},
   "source": [
    "## 2.1 简单创建Python类"
   ]
  },
  {
   "cell_type": "markdown",
   "id": "188a17b3",
   "metadata": {},
   "source": [
    "在标准python中，可以创建一个`User`类，拥有`name`、`age`、`email`三种属性值。直接进行创建，不能对字段类型进行约束，即年龄中可能传入不合规的字符串类型。"
   ]
  },
  {
   "cell_type": "code",
   "execution_count": 1,
   "id": "3ae8e977",
   "metadata": {},
   "outputs": [],
   "source": [
    "from typing import List\n",
    "from pydantic import BaseModel, Field"
   ]
  },
  {
   "cell_type": "code",
   "execution_count": 2,
   "id": "d9447a47",
   "metadata": {},
   "outputs": [],
   "source": [
    "# 创建User类\n",
    "class User:\n",
    "    def __init__(self, name: str, age: int, email: str):\n",
    "        self.name = name\n",
    "        self.age = age\n",
    "        self.email = email"
   ]
  },
  {
   "cell_type": "code",
   "execution_count": 3,
   "id": "e765e2b5",
   "metadata": {},
   "outputs": [
    {
     "name": "stdout",
     "output_type": "stream",
     "text": [
      "Joe\n"
     ]
    }
   ],
   "source": [
    "# 生成user对象\n",
    "foo = User(name=\"Joe\",age=32, email=\"joe@gmail.com\")\n",
    "\n",
    "# 输出foo中 name字段\n",
    "print(foo.name)"
   ]
  },
  {
   "cell_type": "code",
   "execution_count": 4,
   "id": "aa33be60",
   "metadata": {},
   "outputs": [
    {
     "name": "stdout",
     "output_type": "stream",
     "text": [
      "bar\n"
     ]
    }
   ],
   "source": [
    "# 生成user对象\n",
    "foo = User(name=\"Joe\",age=\"bar\", email=\"joe@gmail.com\")\n",
    "\n",
    "# 输出foo中 name字段\n",
    "# name字段填写的是字符串类型，但能够创建成功并输出\n",
    "print(foo.age)"
   ]
  },
  {
   "cell_type": "markdown",
   "id": "ccbfc8d5",
   "metadata": {},
   "source": [
    "## 2.2 使用 Pydantic 创建类"
   ]
  },
  {
   "cell_type": "markdown",
   "id": "80a59b93",
   "metadata": {},
   "source": [
    "使用 Pydantic 创建类，可以对类的属性值进行格式约束。在创建类的时候会进行格式验证，如果格式不符合要求会报错。"
   ]
  },
  {
   "cell_type": "code",
   "execution_count": 5,
   "id": "49675d39",
   "metadata": {},
   "outputs": [],
   "source": [
    "# 使用 Pydantic创建pUser类别，说明age使用int类型\n",
    "class pUser(BaseModel):\n",
    "    name: str\n",
    "    age: int\n",
    "    email: str"
   ]
  },
  {
   "cell_type": "code",
   "execution_count": 6,
   "id": "825b261e",
   "metadata": {},
   "outputs": [
    {
     "name": "stdout",
     "output_type": "stream",
     "text": [
      "Jane\n"
     ]
    }
   ],
   "source": [
    "# 生成user对象\n",
    "foo_p = pUser(name=\"Jane\", age=32, email=\"jane@gmail.com\")\n",
    "\n",
    "# 输出foo中 name字段\n",
    "print(foo_p.name)"
   ]
  },
  {
   "cell_type": "code",
   "execution_count": 7,
   "id": "41a635f8",
   "metadata": {},
   "outputs": [
    {
     "name": "stdout",
     "output_type": "stream",
     "text": [
      "1 validation error for pUser\n",
      "age\n",
      "  Input should be a valid integer, unable to parse string as an integer [type=int_parsing, input_value='bar', input_type=str]\n",
      "    For further information visit https://errors.pydantic.dev/2.11/v/int_parsing\n"
     ]
    }
   ],
   "source": [
    "# 使用了pydantic，由于age不是int，因此会报错。输出报错内容\n",
    "try:\n",
    "    foo_p = pUser(name=\"Jane\", age=\"bar\", email=\"jane@gmail.com\")\n",
    "except Exception as e:\n",
    "    print(e)"
   ]
  },
  {
   "cell_type": "code",
   "execution_count": 8,
   "id": "1e7ec9aa",
   "metadata": {},
   "outputs": [],
   "source": [
    "class Class(BaseModel):\n",
    "    students: List[pUser]"
   ]
  },
  {
   "cell_type": "code",
   "execution_count": 9,
   "id": "3206e1fb",
   "metadata": {},
   "outputs": [
    {
     "data": {
      "text/plain": [
       "Class(students=[pUser(name='Jane', age=32, email='jane@gmail.com')])"
      ]
     },
     "execution_count": 9,
     "metadata": {},
     "output_type": "execute_result"
    }
   ],
   "source": [
    "obj = Class(\n",
    "    students=[pUser(name=\"Jane\", age=32, email=\"jane@gmail.com\")]\n",
    ")\n",
    "obj"
   ]
  },
  {
   "cell_type": "markdown",
   "id": "f956e561",
   "metadata": {},
   "source": [
    "# 三、基于Pydantic的OpenAI函数定义"
   ]
  },
  {
   "cell_type": "markdown",
   "id": "06f67f9a",
   "metadata": {},
   "source": [
    "## 3.1 构造 OpenAI 的 function"
   ]
  },
  {
   "cell_type": "markdown",
   "id": "8765afc9",
   "metadata": {},
   "source": [
    "我们创建了一个`WeatherSearch`类，它继承自 Pydantic 的 BaseModel 子类.因此`WeatherSearch`类的所有成员都被具备了数据类型校验机制，该类有一个str类型的成员`airport_code`表示机场代码，并有一个描述信息description，用来说明 airport_code 的作用，在 airport_code 的上方也有一段文本描述信息：输入机场代码，获取该机场的天气信息。这段文本信息是对类`WeatherSearch`的说明，意思是通过机场代码可以查询天气情况。\n",
    "\n",
    "同时，我们使用 langchain 将这个`WeatherSearch`类转换成openai的函数描述对象："
   ]
  },
  {
   "cell_type": "code",
   "execution_count": 10,
   "id": "8886dc0b",
   "metadata": {},
   "outputs": [],
   "source": [
    "# 定义WeatherSearch\n",
    "# WeatherSearch的function需要写注释完成函数的description\n",
    "class WeatherSearch(BaseModel):\n",
    "    \"\"\"输入机场代码，获取该机场的天气信息\"\"\"\n",
    "    airport_code: str = Field(description=\"输入机场代码查询天气\")"
   ]
  },
  {
   "cell_type": "code",
   "execution_count": 12,
   "id": "26e7e42f",
   "metadata": {},
   "outputs": [],
   "source": [
    "# 导入langchain\n",
    "from langchain_core.utils.function_calling import convert_to_openai_tool"
   ]
  },
  {
   "cell_type": "code",
   "execution_count": 13,
   "id": "104b30c3",
   "metadata": {},
   "outputs": [
    {
     "data": {
      "text/plain": [
       "{'type': 'function',\n",
       " 'function': {'name': 'WeatherSearch',\n",
       "  'description': '输入机场代码，获取该机场的天气信息',\n",
       "  'parameters': {'properties': {'airport_code': {'description': '输入机场代码查询天气',\n",
       "     'type': 'string'}},\n",
       "   'required': ['airport_code'],\n",
       "   'type': 'object'}}}"
      ]
     },
     "execution_count": 13,
     "metadata": {},
     "output_type": "execute_result"
    }
   ],
   "source": [
    "# 转化为openai function calling模式\n",
    "weather_tool = convert_to_openai_tool(WeatherSearch)\n",
    "weather_tool"
   ]
  },
  {
   "cell_type": "markdown",
   "id": "fbd9fa5c",
   "metadata": {},
   "source": [
    "\n",
    "\n",
    "接下来，使用 langchain 的`convert_pydantic_to_openai_function`方法将 Pydantic 类转换成了 openai 的函数描述对象。需要的注意的是在定义Pydantic类时文本描述信息不可缺少，如缺少文本描述信息会导致转换时出错。\n",
    "\n",
    "- `WeatherSearch1`，由于我们没有在`WeatherSearch1`中加入对本身的描述信息，导致在转换时报错。\n",
    "- `WeatherSearch2`加入对本身的描述信息，因此不会报错。"
   ]
  },
  {
   "cell_type": "code",
   "execution_count": 14,
   "id": "aa2584c8",
   "metadata": {},
   "outputs": [
    {
     "data": {
      "text/plain": [
       "{'type': 'function',\n",
       " 'function': {'name': 'WeatherSearch1',\n",
       "  'description': '',\n",
       "  'parameters': {'properties': {'airport_code': {'description': '输入机场代码查询天气',\n",
       "     'type': 'string'}},\n",
       "   'required': ['airport_code'],\n",
       "   'type': 'object'}}}"
      ]
     },
     "execution_count": 14,
     "metadata": {},
     "output_type": "execute_result"
    }
   ],
   "source": [
    "# WeatherSearch1没有写注释，会报错\n",
    "class WeatherSearch1(BaseModel):\n",
    "    airport_code: str = Field(description=\"输入机场代码查询天气\")\n",
    "\n",
    "convert_to_openai_tool(WeatherSearch1)"
   ]
  },
  {
   "cell_type": "code",
   "execution_count": 16,
   "id": "92e371eb",
   "metadata": {},
   "outputs": [
    {
     "data": {
      "text/plain": [
       "{'type': 'function',\n",
       " 'function': {'name': 'WeatherSearch2',\n",
       "  'description': '输入机场代码，获取该机场的天气信息',\n",
       "  'parameters': {'properties': {'airport_code': {'type': 'string'}},\n",
       "   'required': ['airport_code'],\n",
       "   'type': 'object'}}}"
      ]
     },
     "execution_count": 16,
     "metadata": {},
     "output_type": "execute_result"
    }
   ],
   "source": [
    "# 构造WeatherSearch2，不对参数注释\n",
    "class WeatherSearch2(BaseModel):\n",
    "    \"\"\"输入机场代码，获取该机场的天气信息\"\"\"\n",
    "    airport_code: str\n",
    "\n",
    "convert_to_openai_tool(WeatherSearch2)"
   ]
  },
  {
   "cell_type": "markdown",
   "id": "35ff3121",
   "metadata": {},
   "source": [
    "## 3.2 通过langchain使用function"
   ]
  },
  {
   "cell_type": "markdown",
   "id": "0792e86e",
   "metadata": {},
   "source": [
    "为了实现 LLM 对 function 的调用，有一下两种方式\n",
    "\n",
    "- 在`invoke`中指定 functions\n",
    "- 执行`invoke`之前使用`bind`方法来绑定函数描述对象"
   ]
  },
  {
   "cell_type": "code",
   "execution_count": 17,
   "id": "060e6c8d-142f-4813-ab27-cb320898b461",
   "metadata": {},
   "outputs": [],
   "source": [
    "import os\n",
    "\n",
    "from dotenv import load_dotenv, find_dotenv\n",
    "from langchain_openai import OpenAIEmbeddings\n",
    "from langchain_openai.chat_models import ChatOpenAI\n",
    "\n",
    "loaded = load_dotenv(find_dotenv(), override=True)\n",
    "# 从环境变量中获取 OpenAI API Key 或者直接赋值\n",
    "API_KEY = os.getenv(\"API_KEY\")\n",
    "\n",
    "# 如果您使用的是官方 API，就直接用 https://api.siliconflow.cn/v1 就行。\n",
    "BASE_URL = \"https://api.siliconflow.cn/v1\""
   ]
  },
  {
   "cell_type": "code",
   "execution_count": 18,
   "id": "f8ed0850",
   "metadata": {},
   "outputs": [],
   "source": [
    "model = ChatOpenAI(temperature=0, model_name=\"deepseek-ai/DeepSeek-V3\", max_tokens=4096,\n",
    "                        openai_api_key=API_KEY, openai_api_base=BASE_URL, max_retries=3,\n",
    "                        seed=42, presence_penalty=0.1, frequency_penalty=0.1,\n",
    "                        extra_body={\n",
    "                            \"enable_thinking\": False\n",
    "                        }\n",
    "                        )"
   ]
  },
  {
   "cell_type": "code",
   "execution_count": 19,
   "id": "550029a0",
   "metadata": {},
   "outputs": [
    {
     "data": {
      "text/plain": [
       "AIMessage(content='', additional_kwargs={'tool_calls': [{'id': '0197636e501460851934f9c68067056a', 'function': {'arguments': '{\"airport_code\":\"SFO\"}', 'name': 'WeatherSearch'}, 'type': 'function', 'index': 0}], 'refusal': None}, response_metadata={'token_usage': {'completion_tokens': 9, 'prompt_tokens': 109, 'total_tokens': 118, 'completion_tokens_details': None, 'prompt_tokens_details': None}, 'model_name': 'deepseek-ai/DeepSeek-V3', 'system_fingerprint': '', 'id': '0197636e48f9370c793df4fffea6aa23', 'service_tier': None, 'finish_reason': 'tool_calls', 'logprobs': None}, id='run--f82ce302-4fcb-455a-abb8-34b93c64e931-0', tool_calls=[{'name': 'WeatherSearch', 'args': {'airport_code': 'SFO'}, 'id': '0197636e501460851934f9c68067056a', 'type': 'tool_call'}], usage_metadata={'input_tokens': 109, 'output_tokens': 9, 'total_tokens': 118, 'input_token_details': {}, 'output_token_details': {}})"
      ]
     },
     "execution_count": 19,
     "metadata": {},
     "output_type": "execute_result"
    }
   ],
   "source": [
    "# 在invoke中使用openai function功能\n",
    "\n",
    "tools = [\n",
    "    weather_tool\n",
    "]\n",
    "\n",
    "model.invoke(\"今天旧金山的天气怎么样？\", tools=tools)"
   ]
  },
  {
   "cell_type": "code",
   "execution_count": 20,
   "id": "458e21ec",
   "metadata": {},
   "outputs": [
    {
     "data": {
      "text/plain": [
       "AIMessage(content='', additional_kwargs={'tool_calls': [{'id': '0197636e8c1df54a889b7bef1f820eae', 'function': {'arguments': '{\"airport_code\":\"SFO\"}', 'name': 'WeatherSearch'}, 'type': 'function', 'index': 0}], 'refusal': None}, response_metadata={'token_usage': {'completion_tokens': 9, 'prompt_tokens': 109, 'total_tokens': 118, 'completion_tokens_details': None, 'prompt_tokens_details': None}, 'model_name': 'deepseek-ai/DeepSeek-V3', 'system_fingerprint': '', 'id': '0197636e866b0658a9567fef7e9503db', 'service_tier': None, 'finish_reason': 'tool_calls', 'logprobs': None}, id='run--2747c8df-8302-46a0-a4de-fa63bd33773c-0', tool_calls=[{'name': 'WeatherSearch', 'args': {'airport_code': 'SFO'}, 'id': '0197636e8c1df54a889b7bef1f820eae', 'type': 'tool_call'}], usage_metadata={'input_tokens': 109, 'output_tokens': 9, 'total_tokens': 118, 'input_token_details': {}, 'output_token_details': {}})"
      ]
     },
     "execution_count": 20,
     "metadata": {},
     "output_type": "execute_result"
    }
   ],
   "source": [
    "# 直接在构造模型中声明functions，对话时不需要在声明\n",
    "model_with_function = model.bind(tools=tools)\n",
    "model_with_function.invoke(\"今天旧金山的天气怎么样？\")"
   ]
  },
  {
   "cell_type": "markdown",
   "id": "3c6f6aed",
   "metadata": {},
   "source": [
    "## 3.3 强制使用function"
   ]
  },
  {
   "cell_type": "markdown",
   "id": "9dfdcad6",
   "metadata": {},
   "source": [
    "如果想要强制使用 function，需要在`bind`中增加`function_call`参数。"
   ]
  },
  {
   "cell_type": "code",
   "execution_count": 21,
   "id": "ddc08c4f",
   "metadata": {},
   "outputs": [],
   "source": [
    "# 强制使用function，在模型构建时声明function_call\n",
    "tool_choice={\n",
    "    \"type\": \"function\",\n",
    "    \"function\": {\n",
    "     \"name\": \"WeatherSearch\"\n",
    "    }\n",
    "}\n",
    "\n",
    "model_with_forced_function = model.bind(tools=tools, tool_choice=tool_choice)"
   ]
  },
  {
   "cell_type": "code",
   "execution_count": 22,
   "id": "11bb59da",
   "metadata": {},
   "outputs": [
    {
     "data": {
      "text/plain": [
       "AIMessage(content='', additional_kwargs={'tool_calls': [{'id': '0197636ec225b66af2955e3e7cd964b1', 'function': {'arguments': '{\"airport_code\": \"SFO\"}', 'name': 'WeatherSearch'}, 'type': 'function', 'index': 0}], 'refusal': None}, response_metadata={'token_usage': {'completion_tokens': 9, 'prompt_tokens': 108, 'total_tokens': 117, 'completion_tokens_details': None, 'prompt_tokens_details': None}, 'model_name': 'deepseek-ai/DeepSeek-V3', 'system_fingerprint': '', 'id': '0197636ebcb49fed4e3e2aac53765d1a', 'service_tier': None, 'finish_reason': 'tool_calls', 'logprobs': None}, id='run--08efe1eb-e377-44f3-a5a9-61edb26dde87-0', tool_calls=[{'name': 'WeatherSearch', 'args': {'airport_code': 'SFO'}, 'id': '0197636ec225b66af2955e3e7cd964b1', 'type': 'tool_call'}], usage_metadata={'input_tokens': 108, 'output_tokens': 9, 'total_tokens': 117, 'input_token_details': {}, 'output_token_details': {}})"
      ]
     },
     "execution_count": 22,
     "metadata": {},
     "output_type": "execute_result"
    }
   ],
   "source": [
    "# 基于已经声明的function对话，能够调用function\n",
    "model_with_forced_function.invoke(\"旧金山的天气怎么样？\")"
   ]
  },
  {
   "cell_type": "code",
   "execution_count": 23,
   "id": "fcce9a68",
   "metadata": {},
   "outputs": [
    {
     "data": {
      "text/plain": [
       "AIMessage(content='', additional_kwargs={'tool_calls': [{'id': '0197636ed65cb7ca57b8848507e398d1', 'function': {'arguments': '{\"airport_code\":\"PEK\"}', 'name': 'WeatherSearch'}, 'type': 'function', 'index': 0}], 'refusal': None}, response_metadata={'token_usage': {'completion_tokens': 8, 'prompt_tokens': 104, 'total_tokens': 112, 'completion_tokens_details': None, 'prompt_tokens_details': None}, 'model_name': 'deepseek-ai/DeepSeek-V3', 'system_fingerprint': '', 'id': '0197636ed1715de834c975bc64665ef2', 'service_tier': None, 'finish_reason': 'tool_calls', 'logprobs': None}, id='run--3c395393-bc26-44bd-b365-1e3f7d342cf6-0', tool_calls=[{'name': 'WeatherSearch', 'args': {'airport_code': 'PEK'}, 'id': '0197636ed65cb7ca57b8848507e398d1', 'type': 'tool_call'}], usage_metadata={'input_tokens': 104, 'output_tokens': 8, 'total_tokens': 112, 'input_token_details': {}, 'output_token_details': {}})"
      ]
     },
     "execution_count": 23,
     "metadata": {},
     "output_type": "execute_result"
    }
   ],
   "source": [
    "# 输入hi，强制使用function的模型，即使prompt与函数description无关也会命中\n",
    "model_with_forced_function.invoke(\"你好!\")"
   ]
  },
  {
   "cell_type": "code",
   "execution_count": 24,
   "id": "3f805a67",
   "metadata": {},
   "outputs": [
    {
     "data": {
      "text/plain": [
       "AIMessage(content='你好！有什么可以帮您的吗？😊', additional_kwargs={'refusal': None}, response_metadata={'token_usage': {'completion_tokens': 10, 'prompt_tokens': 104, 'total_tokens': 114, 'completion_tokens_details': None, 'prompt_tokens_details': None}, 'model_name': 'deepseek-ai/DeepSeek-V3', 'system_fingerprint': '', 'id': '0197636ee11243a5c37e01090ba51e17', 'service_tier': None, 'finish_reason': 'stop', 'logprobs': None}, id='run--b18c9d58-885b-4945-a9ee-8a59473b81da-0', usage_metadata={'input_tokens': 104, 'output_tokens': 10, 'total_tokens': 114, 'input_token_details': {}, 'output_token_details': {}})"
      ]
     },
     "execution_count": 24,
     "metadata": {},
     "output_type": "execute_result"
    }
   ],
   "source": [
    "# 输入hi，未强制使用function的模型，prompt与函数description无关不会命中\n",
    "model_with_function.invoke(\"你好!\")"
   ]
  },
  {
   "cell_type": "markdown",
   "id": "e8c131cf",
   "metadata": {},
   "source": [
    "# 四、使用function"
   ]
  },
  {
   "cell_type": "markdown",
   "id": "6002ec0d",
   "metadata": {},
   "source": [
    "在一般情况下我们会使用 chain 来实现整个问答的流程，接下来我们通过创建 chain 来实现函数调用功能"
   ]
  },
  {
   "cell_type": "markdown",
   "id": "43f0e6d4",
   "metadata": {},
   "source": [
    "## 4.1 链式使用"
   ]
  },
  {
   "cell_type": "code",
   "execution_count": 25,
   "id": "3d7d7b66",
   "metadata": {},
   "outputs": [],
   "source": [
    "# 引入需要的环境\n",
    "from langchain.prompts import ChatPromptTemplate"
   ]
  },
  {
   "cell_type": "code",
   "execution_count": 26,
   "id": "17df129f",
   "metadata": {},
   "outputs": [],
   "source": [
    "# 使用预定义模版创建聊天代码\n",
    "prompt = ChatPromptTemplate.from_messages([\n",
    "    (\"system\", \"你是一个乐于助人的助手\"),\n",
    "    (\"user\", \"{input}\")\n",
    "])"
   ]
  },
  {
   "cell_type": "code",
   "execution_count": 27,
   "id": "c70e2192",
   "metadata": {},
   "outputs": [],
   "source": [
    "# 使用prompt + model_with_function 组合\n",
    "chain = prompt | model_with_function"
   ]
  },
  {
   "cell_type": "code",
   "execution_count": 28,
   "id": "9d5c71f9",
   "metadata": {},
   "outputs": [
    {
     "data": {
      "text/plain": [
       "AIMessage(content='', additional_kwargs={'tool_calls': [{'id': '0197636f141e4cc86daff8d9ff6848bd', 'function': {'arguments': '{\"airport_code\":\"SFO\"}', 'name': 'WeatherSearch'}, 'type': 'function', 'index': 0}], 'refusal': None}, response_metadata={'token_usage': {'completion_tokens': 9, 'prompt_tokens': 116, 'total_tokens': 125, 'completion_tokens_details': None, 'prompt_tokens_details': None}, 'model_name': 'deepseek-ai/DeepSeek-V3', 'system_fingerprint': '', 'id': '0197636f0db3b446e1b559180a4fb5ff', 'service_tier': None, 'finish_reason': 'tool_calls', 'logprobs': None}, id='run--5ec0cba3-cc90-428c-a0c9-e8f4589e410c-0', tool_calls=[{'name': 'WeatherSearch', 'args': {'airport_code': 'SFO'}, 'id': '0197636f141e4cc86daff8d9ff6848bd', 'type': 'tool_call'}], usage_metadata={'input_tokens': 116, 'output_tokens': 9, 'total_tokens': 125, 'input_token_details': {}, 'output_token_details': {}})"
      ]
     },
     "execution_count": 28,
     "metadata": {},
     "output_type": "execute_result"
    }
   ],
   "source": [
    "# 创建命中function的问答\n",
    "chain.invoke({\"input\": \"今天旧金山的天气怎么样？\"})"
   ]
  },
  {
   "cell_type": "code",
   "execution_count": 29,
   "id": "a98e8dbd",
   "metadata": {},
   "outputs": [
    {
     "data": {
      "text/plain": [
       "AIMessage(content='你好！有什么可以帮您的吗？😊', additional_kwargs={'refusal': None}, response_metadata={'token_usage': {'completion_tokens': 10, 'prompt_tokens': 111, 'total_tokens': 121, 'completion_tokens_details': None, 'prompt_tokens_details': None}, 'model_name': 'deepseek-ai/DeepSeek-V3', 'system_fingerprint': '', 'id': '0197636f19730d014f853ff782d312fe', 'service_tier': None, 'finish_reason': 'stop', 'logprobs': None}, id='run--577780c8-b347-421d-9538-47326bed33d2-0', usage_metadata={'input_tokens': 111, 'output_tokens': 10, 'total_tokens': 121, 'input_token_details': {}, 'output_token_details': {}})"
      ]
     },
     "execution_count": 29,
     "metadata": {},
     "output_type": "execute_result"
    }
   ],
   "source": [
    "# 创建未命中function的问答\n",
    "chain.invoke({\"input\": \"你好!\"})"
   ]
  },
  {
   "cell_type": "markdown",
   "id": "19d7433a",
   "metadata": {},
   "source": [
    "## 4.2 使用多个function"
   ]
  },
  {
   "cell_type": "markdown",
   "id": "f1884ed9",
   "metadata": {},
   "source": [
    "我们可以传递一组函数，让 LLM 根据问题上下文决定使用哪个函数。"
   ]
  },
  {
   "cell_type": "code",
   "execution_count": 30,
   "id": "f1cc30d8",
   "metadata": {},
   "outputs": [],
   "source": [
    "# 创建 ArtistSearch function\n",
    "class ArtistSearch(BaseModel):\n",
    "    \"\"\"调用此命令可以获得特定艺术家的歌曲名称\"\"\"\n",
    "    artist_name: str = Field(description=\"要查的艺术家的名字\")\n",
    "    n: int = Field(description=\"number of results\")"
   ]
  },
  {
   "cell_type": "code",
   "execution_count": 31,
   "id": "be15a438",
   "metadata": {},
   "outputs": [],
   "source": [
    "# 组装WeatherSearch和ArtistSearch 函数\n",
    "tools = [\n",
    "    convert_to_openai_tool(WeatherSearch),\n",
    "    convert_to_openai_tool(ArtistSearch)\n",
    "]"
   ]
  },
  {
   "cell_type": "code",
   "execution_count": 32,
   "id": "747e93e4",
   "metadata": {},
   "outputs": [],
   "source": [
    "# 将两个function放入模型\n",
    "model_with_functions = model.bind(tools=tools)"
   ]
  },
  {
   "cell_type": "code",
   "execution_count": 33,
   "id": "276e8a25",
   "metadata": {},
   "outputs": [
    {
     "data": {
      "text/plain": [
       "AIMessage(content='', additional_kwargs={'tool_calls': [{'id': '019763700af851828996157e14e4855d', 'function': {'arguments': '{\"airport_code\":\"SFO\"}', 'name': 'WeatherSearch'}, 'type': 'function', 'index': 0}], 'refusal': None}, response_metadata={'token_usage': {'completion_tokens': 9, 'prompt_tokens': 206, 'total_tokens': 215, 'completion_tokens_details': None, 'prompt_tokens_details': None}, 'model_name': 'deepseek-ai/DeepSeek-V3', 'system_fingerprint': '', 'id': '01976370049b1e927a406a7c9127f1a1', 'service_tier': None, 'finish_reason': 'tool_calls', 'logprobs': None}, id='run--5a3a03c8-7fb5-4350-8787-25235f4db2a9-0', tool_calls=[{'name': 'WeatherSearch', 'args': {'airport_code': 'SFO'}, 'id': '019763700af851828996157e14e4855d', 'type': 'tool_call'}], usage_metadata={'input_tokens': 206, 'output_tokens': 9, 'total_tokens': 215, 'input_token_details': {}, 'output_token_details': {}})"
      ]
     },
     "execution_count": 33,
     "metadata": {},
     "output_type": "execute_result"
    }
   ],
   "source": [
    "# 命中 WeatherSearch function\n",
    "model_with_functions.invoke(\"旧金山的天气怎么样？\")"
   ]
  },
  {
   "cell_type": "code",
   "execution_count": 34,
   "id": "fb1dcd0b",
   "metadata": {},
   "outputs": [
    {
     "data": {
      "text/plain": [
       "AIMessage(content='', additional_kwargs={'tool_calls': [{'id': '0197637014c037ecc5a00dc58da326cf', 'function': {'arguments': '{\"artist_name\":\"泰勒·斯威夫特\",\"n\":3}', 'name': 'ArtistSearch'}, 'type': 'function', 'index': 0}], 'refusal': None}, response_metadata={'token_usage': {'completion_tokens': 16, 'prompt_tokens': 210, 'total_tokens': 226, 'completion_tokens_details': None, 'prompt_tokens_details': None}, 'model_name': 'deepseek-ai/DeepSeek-V3', 'system_fingerprint': '', 'id': '0197637010324411c5855e89dea8c9c6', 'service_tier': None, 'finish_reason': 'tool_calls', 'logprobs': None}, id='run--4d9597ba-cbd2-4c95-a4a2-d8c982f51783-0', tool_calls=[{'name': 'ArtistSearch', 'args': {'artist_name': '泰勒·斯威夫特', 'n': 3}, 'id': '0197637014c037ecc5a00dc58da326cf', 'type': 'tool_call'}], usage_metadata={'input_tokens': 210, 'output_tokens': 16, 'total_tokens': 226, 'input_token_details': {}, 'output_token_details': {}})"
      ]
     },
     "execution_count": 34,
     "metadata": {},
     "output_type": "execute_result"
    }
   ],
   "source": [
    "# 命中 ArtistSearch function\n",
    "model_with_functions.invoke(\"找到泰勒·斯威夫特的三首歌？\")"
   ]
  },
  {
   "cell_type": "code",
   "execution_count": 35,
   "id": "06f9e5d0",
   "metadata": {},
   "outputs": [
    {
     "data": {
      "text/plain": [
       "AIMessage(content='你好！有什么可以帮您的吗？', additional_kwargs={'refusal': None}, response_metadata={'token_usage': {'completion_tokens': 8, 'prompt_tokens': 202, 'total_tokens': 210, 'completion_tokens_details': None, 'prompt_tokens_details': None}, 'model_name': 'deepseek-ai/DeepSeek-V3', 'system_fingerprint': '', 'id': '019763701c2a48da216e655fe14ec105', 'service_tier': None, 'finish_reason': 'stop', 'logprobs': None}, id='run--305d7764-664f-483d-b0e8-3227eb6635b7-0', usage_metadata={'input_tokens': 202, 'output_tokens': 8, 'total_tokens': 210, 'input_token_details': {}, 'output_token_details': {}})"
      ]
     },
     "execution_count": 35,
     "metadata": {},
     "output_type": "execute_result"
    }
   ],
   "source": [
    "# 命中都未命中\n",
    "model_with_functions.invoke(\"你好!\")"
   ]
  },
  {
   "cell_type": "markdown",
   "id": "5fbd5418",
   "metadata": {},
   "source": [
    "# 五、英文版提示"
   ]
  },
  {
   "cell_type": "markdown",
   "id": "4acb9138",
   "metadata": {},
   "source": [
    "**3.1 构造OpenAI的function**"
   ]
  },
  {
   "cell_type": "code",
   "execution_count": 36,
   "id": "2af21fad",
   "metadata": {},
   "outputs": [],
   "source": [
    "class WeatherSearch(BaseModel):\n",
    "    \"\"\"Call this with an airport code to get the weather at that airport\"\"\"\n",
    "    airport_code: str = Field(description=\"airport code to get weather for\")"
   ]
  },
  {
   "cell_type": "code",
   "execution_count": 37,
   "id": "75c13c9e",
   "metadata": {},
   "outputs": [],
   "source": [
    "class WeatherSearch1(BaseModel):\n",
    "    airport_code: str = Field(description=\"airport code to get weather for\")"
   ]
  },
  {
   "cell_type": "code",
   "execution_count": 38,
   "id": "dd9a8ed3",
   "metadata": {},
   "outputs": [],
   "source": [
    "class WeatherSearch2(BaseModel):\n",
    "    \"\"\"Call this with an airport code to get the weather at that airport\"\"\"\n",
    "    airport_code: str"
   ]
  },
  {
   "cell_type": "markdown",
   "id": "f54d4bd2",
   "metadata": {},
   "source": [
    "**4.1 链式使用**"
   ]
  },
  {
   "cell_type": "code",
   "execution_count": 39,
   "id": "c2b91dd9",
   "metadata": {},
   "outputs": [],
   "source": [
    "prompt = ChatPromptTemplate.from_messages([\n",
    "    (\"system\", \"You are a helpful assistant\"),\n",
    "    (\"user\", \"{input}\")\n",
    "])"
   ]
  },
  {
   "cell_type": "markdown",
   "id": "259599c1",
   "metadata": {},
   "source": [
    "**4.2 使用多个function**"
   ]
  },
  {
   "cell_type": "code",
   "execution_count": 40,
   "id": "cfe327f1",
   "metadata": {},
   "outputs": [],
   "source": [
    "class ArtistSearch(BaseModel):\n",
    "    \"\"\"Call this to get the names of songs by a particular artist\"\"\"\n",
    "    artist_name: str = Field(description=\"name of artist to look up\")\n",
    "    n: int = Field(description=\"number of results\")"
   ]
  }
 ],
 "metadata": {
  "kernelspec": {
   "display_name": "Python 3 (ipykernel)",
   "language": "python",
   "name": "python3"
  },
  "language_info": {
   "codemirror_mode": {
    "name": "ipython",
    "version": 3
   },
   "file_extension": ".py",
   "mimetype": "text/x-python",
   "name": "python",
   "nbconvert_exporter": "python",
   "pygments_lexer": "ipython3",
   "version": "3.12.10"
  }
 },
 "nbformat": 4,
 "nbformat_minor": 5
}
